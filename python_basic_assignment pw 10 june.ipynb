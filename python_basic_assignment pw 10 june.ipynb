{
  "nbformat": 4,
  "nbformat_minor": 0,
  "metadata": {
    "colab": {
      "provenance": []
    },
    "kernelspec": {
      "name": "python3",
      "display_name": "Python 3"
    },
    "language_info": {
      "name": "python"
    }
  },
  "cells": [
    {
      "cell_type": "markdown",
      "source": [
        "# python basic assignments"
      ],
      "metadata": {
        "id": "bTRy_Vwv4e_X"
      }
    },
    {
      "cell_type": "markdown",
      "source": [
        "1. What is Python, and why is it popular?\n",
        "- Python is high level, interpreted programming language known for its simplicity and readability. -It's popular because: 1)easy syntax 2)Huge library support 3)Used in many fields like DA, DS, Automation, developement etc.\n",
        "2. What is an interpreter in Python?\n",
        "- An interpreter is a program that executes Python code line by line. It converts high-level code into machine code at run time, allowing immediate execution and debugging.\n",
        "3. What are pre-defined keywords in Python?\n",
        "- Reserved keyword in Python which user cannot use as variable are pre-defined keywords, eg. For, while, print, else, elif,class etc.\n",
        "4. Can keywords be used as variable names?\n",
        "- No python keywords cannot be used as variable names.\n",
        "5. What is mutability in Python?\n",
        "- Mutability means whether an object can be changed after it's creation. eg. List, Dictionary and set are mutable\n",
        "6. Why are lists mutable, but tuples are immutable?\n",
        "- Lists are designed for flexible data which can grow, shrink and made change while tuples are designed to use fixed data which can improve performance and safety.\n",
        "7. What is the difference between “==” and “is” operators in Python?\n",
        "- \"==\" are used for check equality while \"is\" is used for checking memory eg. if a==9: -> check if a is equal to 9\n",
        "8. What are logical operators in Python?\n",
        "- Logical operators are used in Python to combine conditional statements. eg. AND, OR, NOT\n",
        "9. What is type casting in Python?\n",
        "- Type casting in python means converting data type of one variale into another.\n",
        "10. What is the difference between implicit and explicit type casting?\n",
        "- implicit type casting: .When Python convert data type internally then its known as Implicit type casting\n",
        "-Explicit type casting: When user convert data type externally using int(), float(), str() and float(), then its known as Explicit type casting.\n",
        "11. What is the purpose of conditional statements in Python?\n",
        "- The purpose of conditional statements in Python is to control the flow of program based on conditions.\n",
        "12. How does the elif statement work?\n",
        "- elif statement is the another condition after the first if when the previous condition is false.\n",
        "if(): statement() -elif(): statement() -else: statement()\n",
        "13. What is the difference between for and while loops?\n",
        "- for: when we know the exact number of iteration -while: when the loop should continue based on a condition\n",
        "14. Describe a scenario where a while loop is more suitable than a for loop?\n",
        "- We use while loop when we dont know how many iteration or loop the statement will require."
      ],
      "metadata": {
        "id": "AlzygUjB4vpm"
      }
    },
    {
      "cell_type": "code",
      "execution_count": 1,
      "metadata": {
        "colab": {
          "base_uri": "https://localhost:8080/"
        },
        "id": "KyEsaOEI4FZe",
        "outputId": "2da26536-b5a1-45a5-9a51-d63f9fed1127"
      },
      "outputs": [
        {
          "output_type": "stream",
          "name": "stdout",
          "text": [
            "Hello, World!\n"
          ]
        }
      ],
      "source": [
        "#Write a Python program to print \"Hello, World!\n",
        "print('Hello, World!')\n"
      ]
    },
    {
      "cell_type": "code",
      "source": [
        "#Write a Python program that displays your name and age.\n",
        "name='ajay singh bais'\n",
        "age=29\n",
        "print('My name is:', name, 'and age is:',age)"
      ],
      "metadata": {
        "colab": {
          "base_uri": "https://localhost:8080/"
        },
        "id": "3D4eRTPVgDGo",
        "outputId": "638dd00b-6618-4ff8-9582-d4ad8ae0ac45"
      },
      "execution_count": 2,
      "outputs": [
        {
          "output_type": "stream",
          "name": "stdout",
          "text": [
            "My name is: ajay singh bais and age is: 29\n"
          ]
        }
      ]
    },
    {
      "cell_type": "code",
      "source": [
        "#Write code to print all the pre-defined keywords in Python using the keyword library.\n",
        "import keyword\n",
        "print(keyword.kwlist)"
      ],
      "metadata": {
        "colab": {
          "base_uri": "https://localhost:8080/"
        },
        "id": "NF6ZRXcSgC5S",
        "outputId": "bb69aad2-79df-461b-e38e-6da61d86eb16"
      },
      "execution_count": 3,
      "outputs": [
        {
          "output_type": "stream",
          "name": "stdout",
          "text": [
            "['False', 'None', 'True', 'and', 'as', 'assert', 'async', 'await', 'break', 'class', 'continue', 'def', 'del', 'elif', 'else', 'except', 'finally', 'for', 'from', 'global', 'if', 'import', 'in', 'is', 'lambda', 'nonlocal', 'not', 'or', 'pass', 'raise', 'return', 'try', 'while', 'with', 'yield']\n"
          ]
        }
      ]
    },
    {
      "cell_type": "code",
      "source": [
        "#Write a program that checks if a given word is a Python keyword.\n",
        "import keyword\n",
        "word=input('Enter the word:')\n",
        "if keyword.iskeyword(word):\n",
        "  print('Yes given word is keyword: ',word)\n",
        "else:\n",
        "  print('No, given word is not keyword: ',word)"
      ],
      "metadata": {
        "colab": {
          "base_uri": "https://localhost:8080/"
        },
        "id": "lJO08PVcgCt1",
        "outputId": "8c88c261-b7a9-4a74-89a8-6c1081f03224"
      },
      "execution_count": 4,
      "outputs": [
        {
          "output_type": "stream",
          "name": "stdout",
          "text": [
            "Enter the word:break\n",
            "Yes given word is keyword:  break\n"
          ]
        }
      ]
    },
    {
      "cell_type": "code",
      "source": [
        "# Create a list and tuple in Python, and demonstrate how attempting to change an element works differently for each\n",
        "l=[1,2,3]\n",
        "l[0]=10\n",
        "print(\"After chans in l:\",l)\n",
        "\n",
        "t=(1,2,3)\n",
        "try:\n",
        "  t[0]=10\n",
        "except TypeError as e:\n",
        "    print(\"Error: \",e)"
      ],
      "metadata": {
        "colab": {
          "base_uri": "https://localhost:8080/"
        },
        "id": "G0NybYhLgCi2",
        "outputId": "7aefc77f-72d3-42e1-a9eb-eaf265f644f8"
      },
      "execution_count": 5,
      "outputs": [
        {
          "output_type": "stream",
          "name": "stdout",
          "text": [
            "After chans in l: [10, 2, 3]\n",
            "Error:  'tuple' object does not support item assignment\n"
          ]
        }
      ]
    },
    {
      "cell_type": "code",
      "source": [
        "#Write a function to demonstrate the behavior of mutable and immutable arguments.\n",
        "def ml(lst):\n",
        "  lst.append(100)\n",
        "\n",
        "def mn(num):\n",
        "  num=num+100\n",
        "  return 100\n",
        "\n",
        "mylist=[1,2,3]\n",
        "ml(mylist)\n",
        "print(\"Modify list: \",mylist)\n",
        "\n",
        "nnum=10\n",
        "newnum=mn(nnum)\n",
        "print(\"Original number:\",nnum)\n",
        "print(\"Return number:\", newnum)\n"
      ],
      "metadata": {
        "colab": {
          "base_uri": "https://localhost:8080/"
        },
        "id": "UftAVggvgCX5",
        "outputId": "9031dd1b-2723-4365-bfcc-75c4ac0bc8e0"
      },
      "execution_count": 6,
      "outputs": [
        {
          "output_type": "stream",
          "name": "stdout",
          "text": [
            "Modify list:  [1, 2, 3, 100]\n",
            "Original number: 10\n",
            "Return number: 100\n"
          ]
        }
      ]
    },
    {
      "cell_type": "code",
      "source": [
        "#Write a program that performs basic arithmetic operations on two user-input numbers\n",
        "num1=float(input('Enter number 1:'))\n",
        "num2=float(input('Enter number 2:'))\n",
        "print('Addition: ',num1+num2)\n",
        "print('Substraction: ',num1-num2)\n",
        "print('Multiplication: ',num1*num2)\n",
        "print('Division: ',num1/num2)"
      ],
      "metadata": {
        "colab": {
          "base_uri": "https://localhost:8080/"
        },
        "id": "BhTlXGfWgCN5",
        "outputId": "b05d6605-52e2-4d52-c2b1-d53fcd70bd1c"
      },
      "execution_count": 7,
      "outputs": [
        {
          "output_type": "stream",
          "name": "stdout",
          "text": [
            "Enter number 1:14\n",
            "Enter number 2:18\n",
            "Addition:  32.0\n",
            "Substraction:  -4.0\n",
            "Multiplication:  252.0\n",
            "Division:  0.7777777777777778\n"
          ]
        }
      ]
    },
    {
      "cell_type": "code",
      "source": [
        "#Write a program to demonstrate the use of logical operators\n",
        "x=True\n",
        "y=False\n",
        "print(\"x and y:\", x and y)\n",
        "print(\"x or y:\", x or y)\n",
        "print(\"not x:\", not x)"
      ],
      "metadata": {
        "colab": {
          "base_uri": "https://localhost:8080/"
        },
        "id": "mHe5UOk_gCBg",
        "outputId": "fee9df5d-6c8e-4b5b-affc-16b960637e96"
      },
      "execution_count": 8,
      "outputs": [
        {
          "output_type": "stream",
          "name": "stdout",
          "text": [
            "x and y: False\n",
            "x or y: True\n",
            "not x: False\n"
          ]
        }
      ]
    },
    {
      "cell_type": "code",
      "source": [
        "#Write a Python program to convert user input from string to integer, float, and boolean types\n",
        "user_input=input(\"Enter any string: \")\n",
        "print(\"Interger is:\",int(user_input))\n",
        "print(\"Float is:\",float(user_input))\n",
        "print(\"Boolean is:\",bool(user_input))"
      ],
      "metadata": {
        "colab": {
          "base_uri": "https://localhost:8080/"
        },
        "id": "sSOJDHJHgBrH",
        "outputId": "e8dce77e-aeb3-4c99-86f3-ba8fcfe90824"
      },
      "execution_count": 9,
      "outputs": [
        {
          "output_type": "stream",
          "name": "stdout",
          "text": [
            "Enter any string: 7\n",
            "Interger is: 7\n",
            "Float is: 7.0\n",
            "Boolean is: True\n"
          ]
        }
      ]
    },
    {
      "cell_type": "code",
      "source": [
        "#Write code to demonstrate type casting with list elements\n",
        "lst=['1','2','3']\n",
        "int_lst=[int(i) for i in lst]\n",
        "print(int_lst)"
      ],
      "metadata": {
        "colab": {
          "base_uri": "https://localhost:8080/"
        },
        "id": "e_dpN2_0h7q4",
        "outputId": "334f5bca-589f-48fb-e545-ddcff29414af"
      },
      "execution_count": 10,
      "outputs": [
        {
          "output_type": "stream",
          "name": "stdout",
          "text": [
            "[1, 2, 3]\n"
          ]
        }
      ]
    },
    {
      "cell_type": "code",
      "source": [
        "#Write a program that checks if a number is positive, negative, or zero.\n",
        "num=float(input(\"Enter any number:\"))\n",
        "if num == 0:\n",
        "  print(\"Number is zero\")\n",
        "elif num >0:\n",
        "  print(\"Number is positive: \")\n",
        "else:\n",
        "  print(\"Number is negative\")"
      ],
      "metadata": {
        "colab": {
          "base_uri": "https://localhost:8080/"
        },
        "id": "nIpywVOSh7cM",
        "outputId": "146967e4-fb9d-478c-dd32-ecb0ecca4a2e"
      },
      "execution_count": 12,
      "outputs": [
        {
          "output_type": "stream",
          "name": "stdout",
          "text": [
            "Enter any number:-10\n",
            "Number is negative\n"
          ]
        }
      ]
    },
    {
      "cell_type": "code",
      "source": [
        "#Write a for loop to print numbers from 1 to 10.\n",
        "for i in range (1,10+1):\n",
        "  print(i)"
      ],
      "metadata": {
        "colab": {
          "base_uri": "https://localhost:8080/"
        },
        "id": "ITCgE3Djh7Qk",
        "outputId": "8255064e-549e-43b9-b7a5-05e4978994e6"
      },
      "execution_count": 13,
      "outputs": [
        {
          "output_type": "stream",
          "name": "stdout",
          "text": [
            "1\n",
            "2\n",
            "3\n",
            "4\n",
            "5\n",
            "6\n",
            "7\n",
            "8\n",
            "9\n",
            "10\n"
          ]
        }
      ]
    },
    {
      "cell_type": "code",
      "source": [
        "#Write a Python program to find the sum of all even numbers between 1 and 50\n",
        "total=0\n",
        "for i in range (1, 51):\n",
        "  if i%2==0:\n",
        "    total=total+i\n",
        "\n",
        "print(\"Sum os all even number is: \",total)\n"
      ],
      "metadata": {
        "colab": {
          "base_uri": "https://localhost:8080/"
        },
        "id": "22rJh2PTh7EX",
        "outputId": "06408efd-a3c2-4900-d537-6bb44ccf5148"
      },
      "execution_count": 14,
      "outputs": [
        {
          "output_type": "stream",
          "name": "stdout",
          "text": [
            "Sum os all even number is:  650\n"
          ]
        }
      ]
    },
    {
      "cell_type": "code",
      "source": [
        "#Write a program to reverse a string using a while loop\n",
        "user_string = input(\"Enter a string: \")\n",
        "reversed_string = \"\"\n",
        "index = len(user_string) - 1\n",
        "\n",
        "while index >= 0:\n",
        "    reversed_string =reversed_string+ user_string[index]\n",
        "    index =index- 1\n",
        "\n",
        "print(\"Reversed string:\", reversed_string)\n"
      ],
      "metadata": {
        "colab": {
          "base_uri": "https://localhost:8080/"
        },
        "id": "UHOybiW-h6RF",
        "outputId": "1f9860e7-418c-45c6-dc78-048816f0234c"
      },
      "execution_count": 15,
      "outputs": [
        {
          "output_type": "stream",
          "name": "stdout",
          "text": [
            "Enter a string: 15\n",
            "Reversed string: 51\n"
          ]
        }
      ]
    },
    {
      "cell_type": "code",
      "source": [
        "#Write a Python program to calculate the factorial of a number provided by the user using a while loop\n",
        "num = int(input(\"Enter a number: \"))\n",
        "factorial = 1\n",
        "i = 1\n",
        "\n",
        "while i <= num:\n",
        "    factorial *= i\n",
        "    i += 1\n",
        "\n",
        "print(\"Factorial of\", num, \"is\", factorial)\n"
      ],
      "metadata": {
        "colab": {
          "base_uri": "https://localhost:8080/"
        },
        "id": "AlSHJVIpjXwF",
        "outputId": "3cab2f0a-1e04-4983-fa40-53d2080d117a"
      },
      "execution_count": 16,
      "outputs": [
        {
          "output_type": "stream",
          "name": "stdout",
          "text": [
            "Enter a number: 7\n",
            "Factorial of 7 is 5040\n"
          ]
        }
      ]
    },
    {
      "cell_type": "code",
      "source": [],
      "metadata": {
        "id": "A-hjAg8vjXkr"
      },
      "execution_count": null,
      "outputs": []
    }
  ]
}